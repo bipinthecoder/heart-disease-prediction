{
 "cells": [
  {
   "cell_type": "code",
   "execution_count": 1,
   "metadata": {},
   "outputs": [],
   "source": [
    "import pandas as pd\n",
    "import numpy as np\n",
    "import matplotlib.pyplot as plt"
   ]
  },
  {
   "cell_type": "code",
   "execution_count": 2,
   "metadata": {},
   "outputs": [
    {
     "name": "stderr",
     "output_type": "stream",
     "text": [
      "Setting default log level to \"WARN\".\n",
      "To adjust logging level use sc.setLogLevel(newLevel). For SparkR, use setLogLevel(newLevel).\n",
      "23/10/11 15:59:01 WARN NativeCodeLoader: Unable to load native-hadoop library for your platform... using builtin-java classes where applicable\n",
      "23/10/11 15:59:13 WARN GarbageCollectionMetrics: To enable non-built-in garbage collector(s) List(G1 Concurrent GC), users should configure it(them) to spark.eventLog.gcMetrics.youngGenerationGarbageCollectors or spark.eventLog.gcMetrics.oldGenerationGarbageCollectors\n"
     ]
    }
   ],
   "source": [
    "from pyspark.sql import SparkSession\n",
    "\n",
    "spark = SparkSession.builder.appName(\"heartPredict\").getOrCreate()"
   ]
  },
  {
   "cell_type": "code",
   "execution_count": 3,
   "metadata": {},
   "outputs": [
    {
     "data": {
      "text/html": [
       "\n",
       "            <div>\n",
       "                <p><b>SparkSession - in-memory</b></p>\n",
       "                \n",
       "        <div>\n",
       "            <p><b>SparkContext</b></p>\n",
       "\n",
       "            <p><a href=\"http://bipins-mbp:4040\">Spark UI</a></p>\n",
       "\n",
       "            <dl>\n",
       "              <dt>Version</dt>\n",
       "                <dd><code>v3.5.0</code></dd>\n",
       "              <dt>Master</dt>\n",
       "                <dd><code>local[*]</code></dd>\n",
       "              <dt>AppName</dt>\n",
       "                <dd><code>heartPredict</code></dd>\n",
       "            </dl>\n",
       "        </div>\n",
       "        \n",
       "            </div>\n",
       "        "
      ],
      "text/plain": [
       "<pyspark.sql.session.SparkSession at 0x16d7b14f0>"
      ]
     },
     "execution_count": 3,
     "metadata": {},
     "output_type": "execute_result"
    }
   ],
   "source": [
    "spark"
   ]
  },
  {
   "cell_type": "code",
   "execution_count": 13,
   "metadata": {},
   "outputs": [],
   "source": [
    "# df = spark.read.csv('../Dataset/x_train.csv', header = True)\n",
    "df = spark.read.option('header', 'true').csv('../Dataset/x_train.csv')"
   ]
  },
  {
   "cell_type": "code",
   "execution_count": null,
   "metadata": {},
   "outputs": [],
   "source": [
    "\n",
    "# Show the DataFrame\n",
    "df.show(1)"
   ]
  },
  {
   "cell_type": "code",
   "execution_count": 16,
   "metadata": {},
   "outputs": [
    {
     "name": "stdout",
     "output_type": "stream",
     "text": [
      "Row(_STATE='53', FMONTH='11', IDATE='11162015', IMONTH='11', IDAY='16', IYEAR='2015', DISPCODE='1100', SEQNO='2015015629', _PSU='2015015629', CTELENUM=None, PVTRESD1=None, COLGHOUS=None, STATERES=None, CELLFON3=None, LADULT=None, NUMADULT=None, NUMMEN=None, NUMWOMEN=None, CTELNUM1='1', CELLFON2='1', CADULT='2', PVTRESD2='1', CCLGHOUS=None, CSTATE='1', LANDLINE='1', HHADULT='2', GENHLTH='2', PHYSHLTH='1', MENTHLTH='5', POORHLTH='88', HLTHPLN1='1', PERSDOC2='1', MEDCOST='2', CHECKUP1='1', BPHIGH4='3', BPMEDS=None, BLOODCHO='1', CHOLCHK='1', TOLDHI2='2', CVDSTRK3='2', ASTHMA3='2', ASTHNOW=None, CHCSCNCR='2', CHCOCNCR='2', CHCCOPD1='2', HAVARTH3='2', ADDEPEV2='1', CHCKIDNY='2', DIABETE3='3', DIABAGE2=None, SEX='2', MARITAL='1', EDUCA='5', RENTHOM1='1', NUMHHOL2=None, NUMPHON2=None, CPDEMO1=None, VETERAN3='2', EMPLOY1='1', CHILDREN='88', INCOME2='8', INTERNET='1', WEIGHT2='110', HEIGHT3='501', PREGNANT=None, QLACTLM2='1', USEEQUIP='2', BLIND='2', DECIDE='2', DIFFWALK='2', DIFFDRES='2', DIFFALON='2', SMOKE100='1', SMOKDAY2='1', STOPSMK2='1', LASTSMK2=None, USENOW3='3', ALCDAY5='888', AVEDRNK2=None, DRNK3GE5=None, MAXDRNKS=None, FRUITJU1='555', FRUIT1='205', FVBEANS='304', FVGREEN='303', FVORANG='308', VEGETAB1='205', EXERANY2='1', EXRACT11='64', EXEROFT1='102', EXERHMM1='30', EXRACT21='98', EXEROFT2='220', EXERHMM2='30', STRENGTH='105', LMTJOIN3=None, ARTHDIS2=None, ARTHSOCL=None, JOINPAIN=None, SEATBELT='1', FLUSHOT6='1', FLSHTMY2='102015', IMFVPLAC='8', PNEUVAC3='2', HIVTST6='2', HIVTSTD3=None, WHRTST10=None, PDIABTST=None, PREDIAB1=None, INSULIN=None, BLDSUGAR=None, FEETCHK2=None, DOCTDIAB=None, CHKHEMO3=None, FEETCHK=None, EYEEXAM=None, DIABEYE=None, DIABEDU=None, CAREGIV1=None, CRGVREL1=None, CRGVLNG1=None, CRGVHRS1=None, CRGVPRB1=None, CRGVPERS=None, CRGVHOUS=None, CRGVMST2=None, CRGVEXPT=None, VIDFCLT2=None, VIREDIF3=None, VIPRFVS2=None, VINOCRE2=None, VIEYEXM2=None, VIINSUR2=None, VICTRCT4=None, VIGLUMA2=None, VIMACDG2=None, CIMEMLOS=None, CDHOUSE=None, CDASSIST=None, CDHELP=None, CDSOCIAL=None, CDDISCUS=None, WTCHSALT=None, LONGWTCH=None, DRADVISE=None, ASTHMAGE=None, ASATTACK=None, ASERVIST=None, ASDRVIST=None, ASRCHKUP=None, ASACTLIM=None, ASYMPTOM=None, ASNOSLEP=None, ASTHMED3=None, ASINHALR=None, HAREHAB1=None, STREHAB1=None, CVDASPRN=None, ASPUNSAF=None, RLIVPAIN=None, RDUCHART=None, RDUCSTRK=None, ARTTODAY=None, ARTHWGT=None, ARTHEXER=None, ARTHEDU=None, TETANUS=None, HPVADVC2=None, HPVADSHT=None, SHINGLE2=None, HADMAM='1', HOWLONG='3', HADPAP2='1', LASTPAP2='5', HPVTEST='2', HPLSTTST=None, HADHYST2='1', PROFEXAM=None, LENGEXAM=None, BLDSTOOL='1', LSTBLDS3='4', HADSIGM3='1', HADSGCO1='2', LASTSIG3='4', PCPSAAD2=None, PCPSADI1=None, PCPSARE1=None, PSATEST1=None, PSATIME=None, PCPSARS1=None, PCPSADE1=None, PCDMDECN=None, SCNTMNY1=None, SCNTMEL1=None, SCNTPAID=None, SCNTWRK1=None, SCNTLPAD=None, SCNTLWK1=None, SXORIENT=None, TRNSGNDR=None, RCSGENDR=None, RCSRLTN2=None, CASTHDX2=None, CASTHNO2=None, EMTSUPRT=None, LSATISFY=None, ADPLEASR=None, ADDOWN=None, ADSLEEP=None, ADENERGY=None, ADEAT1=None, ADFAIL=None, ADTHINK=None, ADMOVE=None, MISTMNT=None, ADANXEV=None, QSTVER='20', QSTLANG='1', MSCODE=None, _STSTR='532049', _STRWT='120.93168021690366', _RAWRAKE='1.0', _WT2RAKE='120.93168021690366', _CHISPNC=None, _CRACE1=None, _CPRACE=None, _CLLCPWT=None, _DUALUSE='2', _DUALCOR='0.2339478903073485', _LLCPWT='264.741181241164', _RFHLTH='1', _HCVU651='1', _RFHYPE5='1', _CHOLCHK='1', _RFCHOL='1', _LTASTH1='1', _CASTHM1='1', _ASTHMS1='3', _DRDXAR1='2', _PRACE1='1', _MRACE1='1', _HISPANC='2', _RACE='1', _RACEG21='1', _RACEGR3='1', _RACE_G1='1', _AGEG5YR='8', _AGE65YR='1', _AGE80='57', _AGE_G='5', HTIN4='61', HTM4='1.55', WTKG3='49.9', _BMI5='20.78', _BMI5CAT='2', _RFBMI5='1', _CHLDCNT='1', _EDUCAG='3', _INCOMG='5', _SMOKER3='1', _RFSMOK3='2', DRNKANY5='2', DROCDY3_='0', _RFBING5='1', _DRNKWEK='0', _RFDRHV5='1', FTJUDA1_='0.0', FRUTDA1_='0.71', BEANDAY_='0.13', GRENDAY_='0.1', ORNGDAY_='0.27', VEGEDA1_='0.71', _MISFRTN='0', _MISVEGN='0', _FRTRESP='1', _VEGRESP='1', _FRUTSUM='0.71', _VEGESUM='1.21', _FRTLT1='2', _VEGLT1='1', _FRT16='1', _VEG23='1', _FRUITEX='0', _VEGETEX='0', _TOTINDA='1', METVL11_='3.5', METVL21_='4.5', MAXVO2_='26.91', FC60_='4.61', ACTIN11_='1', ACTIN21_='1', PADUR1_='30', PADUR2_='30', PAFREQ1_='2.0', PAFREQ2_='4.667', _MINAC11='60', _MINAC21='140', STRFREQ_='5.0', PAMISS1_='0', PAMIN11_='60', PAMIN21_='140', PA1MIN_='200', PAVIG11_='0', PAVIG21_='0', PA1VIGM_='0', _PACAT1='2', _PAINDX1='1', _PA150R2='1', _PA300R2='2', _PA30021='2', _PASTRNG='1', _PAREC1='1', _PASTAE1='1', _LMTACT1='3', _LMTWRK1='3', _LMTSCL1='4', _RFSEAT2='1', _RFSEAT3='1', _FLSHOT6=None, _PNEUMO2=None, _AIDTST3='2')\n"
     ]
    }
   ],
   "source": [
    "first_row = df.first()\n",
    "print(first_row)"
   ]
  },
  {
   "cell_type": "code",
   "execution_count": 12,
   "metadata": {},
   "outputs": [],
   "source": [
    "# df = pd.read_csv('../Dataset/x_train.csv')\n",
    "# df.head()"
   ]
  },
  {
   "cell_type": "code",
   "execution_count": null,
   "metadata": {},
   "outputs": [],
   "source": []
  }
 ],
 "metadata": {
  "interpreter": {
   "hash": "e0f55c8911390abb24622c6d4482d2cbb57ae9380b68deae6b5e9d10d828f40e"
  },
  "kernelspec": {
   "display_name": "Python 3.9.6 64-bit ('heart-disease-env': conda)",
   "language": "python",
   "name": "python3"
  },
  "language_info": {
   "codemirror_mode": {
    "name": "ipython",
    "version": 3
   },
   "file_extension": ".py",
   "mimetype": "text/x-python",
   "name": "python",
   "nbconvert_exporter": "python",
   "pygments_lexer": "ipython3",
   "version": "3.9.6"
  },
  "orig_nbformat": 4
 },
 "nbformat": 4,
 "nbformat_minor": 2
}
